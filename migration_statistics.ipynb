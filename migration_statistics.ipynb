{
 "cells": [
  {
   "cell_type": "markdown",
   "id": "9ba0127a",
   "metadata": {},
   "source": [
    "# <center> <font face=\"Times New Roman\"> Statistics of Bird Migration </font></center>"
   ]
  },
  {
   "cell_type": "markdown",
   "id": "e1c376bf",
   "metadata": {},
   "source": [
    "<center> <font face=\"Times New Roman\"> Gracy Whelihan, vgw3869@nyu.edu </font></center> \n",
    "<center> <font face=\"Times New Roman\"> Sheeran Yan, zy2053@nyu.edu </font></center>"
   ]
  },
  {
   "cell_type": "markdown",
   "id": "a261a928",
   "metadata": {},
   "source": [
    "## <font face=\"Times New Roman\">Read Data</font>"
   ]
  },
  {
   "cell_type": "code",
   "execution_count": 2,
   "id": "2470efe3",
   "metadata": {},
   "outputs": [],
   "source": [
    "import pandas as pd\n",
    "import numpy as np\n",
    "import matplotlib.pyplot as plt\n",
    "import seaborn as sns\n",
    "%matplotlib inline"
   ]
  },
  {
   "cell_type": "markdown",
   "id": "cfb3c875",
   "metadata": {},
   "source": [
    "**<font face=\"Times New Roman\">read data from text file</font>**"
   ]
  },
  {
   "cell_type": "code",
   "execution_count": 4,
   "id": "89be34dc",
   "metadata": {},
   "outputs": [],
   "source": [
    "txt_migration = open(\"data/ebird_US-NY__2018_2022_1_12_barchart.txt\", \"r\")"
   ]
  },
  {
   "cell_type": "markdown",
   "id": "52ba21c1",
   "metadata": {},
   "source": [
    "**<font face=\"Times New Roman\">parse data from text file line by line</font>**"
   ]
  },
  {
   "cell_type": "code",
   "execution_count": 5,
   "id": "c1713201",
   "metadata": {},
   "outputs": [],
   "source": [
    "dict_migration = dict()\n",
    "for line in txt_migration:\n",
    "    line_list = line.split(\"\\t\")\n",
    "    if line_list != ['\\n'] and len(line_list) > 2: \n",
    "        dict_migration[line_list[0]] = line_list[1:-1]"
   ]
  },
  {
   "cell_type": "markdown",
   "id": "3fa2831d",
   "metadata": {},
   "source": [
    "**<font face=\"Times New Roman\">create DataFrame</font>**"
   ]
  },
  {
   "cell_type": "code",
   "execution_count": 6,
   "id": "ba9fad30",
   "metadata": {},
   "outputs": [],
   "source": [
    "df_migration = pd.DataFrame(dict_migration)\n",
    "df_migration.rename(columns={'': 'week'}, inplace=True)"
   ]
  },
  {
   "cell_type": "markdown",
   "id": "d9ec57b1",
   "metadata": {},
   "source": [
    "**<font face=\"Times New Roman\">data preprocessing</font>**"
   ]
  },
  {
   "cell_type": "code",
   "execution_count": 7,
   "id": "4db21911",
   "metadata": {},
   "outputs": [],
   "source": [
    "# preprocess week\n",
    "for i in range(len(df_migration.week)):\n",
    "    if df_migration.week.iloc[i] == '':\n",
    "        preprocessed_data = df_migration.week.iloc[i - 1].split('_')[0] + '_' + str(i % 4 + 1)\n",
    "        df_migration.week.iloc[i] = preprocessed_data\n",
    "    else:\n",
    "        df_migration.week.iloc[i] = df_migration.week.iloc[i] + '_' + '1'"
   ]
  },
  {
   "cell_type": "code",
   "execution_count": 8,
   "id": "63f77c39",
   "metadata": {},
   "outputs": [],
   "source": [
    "# lower column name \n",
    "df_migration.columns = [col.lower() for col in df_migration.columns]\n",
    "\n",
    "# set month_week as index\n",
    "df_migration.set_index('week', inplace=True)\n",
    "\n",
    "# coerce type string to type float\n",
    "df_migration = df_migration.astype(float)"
   ]
  },
  {
   "cell_type": "markdown",
   "id": "39125494",
   "metadata": {},
   "source": [
    "Q: Sum of freq is not equal to 1?"
   ]
  },
  {
   "cell_type": "code",
   "execution_count": 9,
   "id": "d301dbf9",
   "metadata": {},
   "outputs": [
    {
     "data": {
      "text/html": [
       "<div>\n",
       "<style scoped>\n",
       "    .dataframe tbody tr th:only-of-type {\n",
       "        vertical-align: middle;\n",
       "    }\n",
       "\n",
       "    .dataframe tbody tr th {\n",
       "        vertical-align: top;\n",
       "    }\n",
       "\n",
       "    .dataframe thead th {\n",
       "        text-align: right;\n",
       "    }\n",
       "</style>\n",
       "<table border=\"1\" class=\"dataframe\">\n",
       "  <thead>\n",
       "    <tr style=\"text-align: right;\">\n",
       "      <th></th>\n",
       "      <th>sample size:</th>\n",
       "      <th>black-bellied whistling-duck</th>\n",
       "      <th>bar-headed goose</th>\n",
       "      <th>emperor goose</th>\n",
       "      <th>snow goose</th>\n",
       "      <th>ross's goose</th>\n",
       "      <th>snow x ross's goose (hybrid)</th>\n",
       "      <th>snow/ross's goose</th>\n",
       "      <th>graylag goose</th>\n",
       "      <th>swan goose</th>\n",
       "      <th>...</th>\n",
       "      <th>rose-breasted/black-headed grosbeak</th>\n",
       "      <th>blue grosbeak</th>\n",
       "      <th>indigo bunting</th>\n",
       "      <th>painted bunting</th>\n",
       "      <th>passerina sp.</th>\n",
       "      <th>dickcissel</th>\n",
       "      <th>saffron finch</th>\n",
       "      <th>lined seedeater</th>\n",
       "      <th>passerine sp.</th>\n",
       "      <th>bird sp.</th>\n",
       "    </tr>\n",
       "    <tr>\n",
       "      <th>week</th>\n",
       "      <th></th>\n",
       "      <th></th>\n",
       "      <th></th>\n",
       "      <th></th>\n",
       "      <th></th>\n",
       "      <th></th>\n",
       "      <th></th>\n",
       "      <th></th>\n",
       "      <th></th>\n",
       "      <th></th>\n",
       "      <th></th>\n",
       "      <th></th>\n",
       "      <th></th>\n",
       "      <th></th>\n",
       "      <th></th>\n",
       "      <th></th>\n",
       "      <th></th>\n",
       "      <th></th>\n",
       "      <th></th>\n",
       "      <th></th>\n",
       "      <th></th>\n",
       "    </tr>\n",
       "  </thead>\n",
       "  <tbody>\n",
       "    <tr>\n",
       "      <th>Jan_1</th>\n",
       "      <td>37552.0</td>\n",
       "      <td>0.0</td>\n",
       "      <td>0.0</td>\n",
       "      <td>0.0</td>\n",
       "      <td>0.015259</td>\n",
       "      <td>0.001278</td>\n",
       "      <td>0.000107</td>\n",
       "      <td>0.000027</td>\n",
       "      <td>0.000346</td>\n",
       "      <td>0.000000</td>\n",
       "      <td>...</td>\n",
       "      <td>0.0</td>\n",
       "      <td>0.0</td>\n",
       "      <td>0.000000</td>\n",
       "      <td>0.002583</td>\n",
       "      <td>0.0</td>\n",
       "      <td>0.000586</td>\n",
       "      <td>0.0</td>\n",
       "      <td>0.0</td>\n",
       "      <td>0.002769</td>\n",
       "      <td>0.001198</td>\n",
       "    </tr>\n",
       "    <tr>\n",
       "      <th>Jan_2</th>\n",
       "      <td>28892.0</td>\n",
       "      <td>0.0</td>\n",
       "      <td>0.0</td>\n",
       "      <td>0.0</td>\n",
       "      <td>0.015818</td>\n",
       "      <td>0.002457</td>\n",
       "      <td>0.000000</td>\n",
       "      <td>0.000069</td>\n",
       "      <td>0.000554</td>\n",
       "      <td>0.000104</td>\n",
       "      <td>...</td>\n",
       "      <td>0.0</td>\n",
       "      <td>0.0</td>\n",
       "      <td>0.000035</td>\n",
       "      <td>0.000762</td>\n",
       "      <td>0.0</td>\n",
       "      <td>0.000000</td>\n",
       "      <td>0.0</td>\n",
       "      <td>0.0</td>\n",
       "      <td>0.002631</td>\n",
       "      <td>0.001454</td>\n",
       "    </tr>\n",
       "    <tr>\n",
       "      <th>Jan_3</th>\n",
       "      <td>28728.0</td>\n",
       "      <td>0.0</td>\n",
       "      <td>0.0</td>\n",
       "      <td>0.0</td>\n",
       "      <td>0.018101</td>\n",
       "      <td>0.000940</td>\n",
       "      <td>0.000070</td>\n",
       "      <td>0.000035</td>\n",
       "      <td>0.000696</td>\n",
       "      <td>0.000070</td>\n",
       "      <td>...</td>\n",
       "      <td>0.0</td>\n",
       "      <td>0.0</td>\n",
       "      <td>0.000000</td>\n",
       "      <td>0.000174</td>\n",
       "      <td>0.0</td>\n",
       "      <td>0.000278</td>\n",
       "      <td>0.0</td>\n",
       "      <td>0.0</td>\n",
       "      <td>0.002437</td>\n",
       "      <td>0.001497</td>\n",
       "    </tr>\n",
       "    <tr>\n",
       "      <th>Jan_4</th>\n",
       "      <td>36388.0</td>\n",
       "      <td>0.0</td>\n",
       "      <td>0.0</td>\n",
       "      <td>0.0</td>\n",
       "      <td>0.015637</td>\n",
       "      <td>0.000330</td>\n",
       "      <td>0.000028</td>\n",
       "      <td>0.000028</td>\n",
       "      <td>0.000660</td>\n",
       "      <td>0.000028</td>\n",
       "      <td>...</td>\n",
       "      <td>0.0</td>\n",
       "      <td>0.0</td>\n",
       "      <td>0.000000</td>\n",
       "      <td>0.000192</td>\n",
       "      <td>0.0</td>\n",
       "      <td>0.000330</td>\n",
       "      <td>0.0</td>\n",
       "      <td>0.0</td>\n",
       "      <td>0.002886</td>\n",
       "      <td>0.001731</td>\n",
       "    </tr>\n",
       "    <tr>\n",
       "      <th>Feb_1</th>\n",
       "      <td>24973.0</td>\n",
       "      <td>0.0</td>\n",
       "      <td>0.0</td>\n",
       "      <td>0.0</td>\n",
       "      <td>0.008689</td>\n",
       "      <td>0.000440</td>\n",
       "      <td>0.000000</td>\n",
       "      <td>0.000000</td>\n",
       "      <td>0.000521</td>\n",
       "      <td>0.000040</td>\n",
       "      <td>...</td>\n",
       "      <td>0.0</td>\n",
       "      <td>0.0</td>\n",
       "      <td>0.000000</td>\n",
       "      <td>0.000080</td>\n",
       "      <td>0.0</td>\n",
       "      <td>0.000040</td>\n",
       "      <td>0.0</td>\n",
       "      <td>0.0</td>\n",
       "      <td>0.002683</td>\n",
       "      <td>0.001602</td>\n",
       "    </tr>\n",
       "  </tbody>\n",
       "</table>\n",
       "<p>5 rows × 726 columns</p>\n",
       "</div>"
      ],
      "text/plain": [
       "       sample size:  black-bellied whistling-duck  bar-headed goose  \\\n",
       "week                                                                  \n",
       "Jan_1       37552.0                           0.0               0.0   \n",
       "Jan_2       28892.0                           0.0               0.0   \n",
       "Jan_3       28728.0                           0.0               0.0   \n",
       "Jan_4       36388.0                           0.0               0.0   \n",
       "Feb_1       24973.0                           0.0               0.0   \n",
       "\n",
       "       emperor goose  snow goose  ross's goose  snow x ross's goose (hybrid)  \\\n",
       "week                                                                           \n",
       "Jan_1            0.0    0.015259      0.001278                      0.000107   \n",
       "Jan_2            0.0    0.015818      0.002457                      0.000000   \n",
       "Jan_3            0.0    0.018101      0.000940                      0.000070   \n",
       "Jan_4            0.0    0.015637      0.000330                      0.000028   \n",
       "Feb_1            0.0    0.008689      0.000440                      0.000000   \n",
       "\n",
       "       snow/ross's goose  graylag goose  swan goose  ...  \\\n",
       "week                                                 ...   \n",
       "Jan_1           0.000027       0.000346    0.000000  ...   \n",
       "Jan_2           0.000069       0.000554    0.000104  ...   \n",
       "Jan_3           0.000035       0.000696    0.000070  ...   \n",
       "Jan_4           0.000028       0.000660    0.000028  ...   \n",
       "Feb_1           0.000000       0.000521    0.000040  ...   \n",
       "\n",
       "       rose-breasted/black-headed grosbeak  blue grosbeak  indigo bunting  \\\n",
       "week                                                                        \n",
       "Jan_1                                  0.0            0.0        0.000000   \n",
       "Jan_2                                  0.0            0.0        0.000035   \n",
       "Jan_3                                  0.0            0.0        0.000000   \n",
       "Jan_4                                  0.0            0.0        0.000000   \n",
       "Feb_1                                  0.0            0.0        0.000000   \n",
       "\n",
       "       painted bunting  passerina sp.  dickcissel  saffron finch  \\\n",
       "week                                                               \n",
       "Jan_1         0.002583            0.0    0.000586            0.0   \n",
       "Jan_2         0.000762            0.0    0.000000            0.0   \n",
       "Jan_3         0.000174            0.0    0.000278            0.0   \n",
       "Jan_4         0.000192            0.0    0.000330            0.0   \n",
       "Feb_1         0.000080            0.0    0.000040            0.0   \n",
       "\n",
       "       lined seedeater  passerine sp.  bird sp.  \n",
       "week                                             \n",
       "Jan_1              0.0       0.002769  0.001198  \n",
       "Jan_2              0.0       0.002631  0.001454  \n",
       "Jan_3              0.0       0.002437  0.001497  \n",
       "Jan_4              0.0       0.002886  0.001731  \n",
       "Feb_1              0.0       0.002683  0.001602  \n",
       "\n",
       "[5 rows x 726 columns]"
      ]
     },
     "execution_count": 9,
     "metadata": {},
     "output_type": "execute_result"
    }
   ],
   "source": [
    "df_migration.head()"
   ]
  },
  {
   "cell_type": "code",
   "execution_count": 10,
   "id": "d0b0c5f7",
   "metadata": {},
   "outputs": [
    {
     "data": {
      "text/plain": [
       "week\n",
       "Jan_1     9.159297\n",
       "Jan_2     9.319545\n",
       "Jan_3     9.083794\n",
       "Jan_4     9.416475\n",
       "Feb_1     9.455987\n",
       "Feb_2     9.230669\n",
       "Feb_3     9.127353\n",
       "Feb_4    10.020435\n",
       "Mar_1    10.529089\n",
       "Mar_2    11.409025\n",
       "Mar_3    12.245959\n",
       "Mar_4    13.026477\n",
       "Apr_1    14.204073\n",
       "Apr_2    15.426450\n",
       "Apr_3    15.782701\n",
       "Apr_4    17.444542\n",
       "May_1    21.042463\n",
       "May_2    21.034638\n",
       "May_3    22.201697\n",
       "May_4    19.487371\n",
       "Jun_1    17.649118\n",
       "Jun_2    16.794873\n",
       "Jun_3    16.663230\n",
       "Jun_4    16.198320\n",
       "Jul_1    16.056846\n",
       "Jul_2    15.962849\n",
       "Jul_3    15.382836\n",
       "Jul_4    15.174115\n",
       "Aug_1    15.017642\n",
       "Aug_2    14.712904\n",
       "Aug_3    14.767961\n",
       "Aug_4    14.810223\n",
       "Sep_1    14.905105\n",
       "Sep_2    15.465551\n",
       "Sep_3    16.364896\n",
       "Sep_4    16.405303\n",
       "Oct_1    16.296695\n",
       "Oct_2    15.640356\n",
       "Oct_3    14.627236\n",
       "Oct_4    14.298301\n",
       "Nov_1    13.066403\n",
       "Nov_2    12.294925\n",
       "Nov_3    11.644721\n",
       "Nov_4    10.982113\n",
       "Dec_1    10.499183\n",
       "Dec_2    10.156316\n",
       "Dec_3    10.174231\n",
       "Dec_4     9.858404\n",
       "dtype: float64"
      ]
     },
     "execution_count": 10,
     "metadata": {},
     "output_type": "execute_result"
    }
   ],
   "source": [
    "df_migration.iloc[:, 1:].sum(axis=1)"
   ]
  },
  {
   "cell_type": "code",
   "execution_count": null,
   "id": "b3868c6e",
   "metadata": {},
   "outputs": [],
   "source": []
  },
  {
   "cell_type": "markdown",
   "id": "666e16dc",
   "metadata": {},
   "source": [
    "## <font face=\"Times New Roman\">Statistics</font>\n",
    "TODO: describe  \n",
    "TODO: correlation matrix  \n",
    ".."
   ]
  },
  {
   "cell_type": "code",
   "execution_count": 13,
   "id": "b6043080",
   "metadata": {},
   "outputs": [
    {
     "data": {
      "image/png": "[encoded data removed]",
      "text/plain": [
       "<Figure size 432x288 with 2 Axes>"
      ]
     },
     "metadata": {
      "needs_background": "light"
     },
     "output_type": "display_data"
    }
   ],
   "source": [
    "# calculate the correlation matrix\n",
    "corr = df_migration.iloc[:, 1:20].corr()\n",
    "\n",
    "# plot the heatmap\n",
    "sns.heatmap(\n",
    "    corr, \n",
    "    xticklabels=corr.columns,\n",
    "    yticklabels=corr.columns\n",
    ")\n",
    "plt.show()"
   ]
  },
  {
   "cell_type": "markdown",
   "id": "08b1432b",
   "metadata": {},
   "source": [
    "## <font face=\"Times New Roman\">Clusters</font>\n",
    "TODO: K-means  \n",
    ".."
   ]
  },
  {
   "cell_type": "code",
   "execution_count": null,
   "id": "01097c7a",
   "metadata": {},
   "outputs": [],
   "source": []
  }
 ],
 "metadata": {
  "kernelspec": {
   "display_name": "Python 3 (ipykernel)",
   "language": "python",
   "name": "python3"
  },
  "language_info": {
   "codemirror_mode": {
    "name": "ipython",
    "version": 3
   },
   "file_extension": ".py",
   "mimetype": "text/x-python",
   "name": "python",
   "nbconvert_exporter": "python",
   "pygments_lexer": "ipython3",
   "version": "3.8.11"
  }
 },
 "nbformat": 4,
 "nbformat_minor": 5
}
